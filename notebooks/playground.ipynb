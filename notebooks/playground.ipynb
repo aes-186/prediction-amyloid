{
 "cells": [
  {
   "cell_type": "code",
   "execution_count": null,
   "metadata": {},
   "outputs": [],
   "source": []
  }
 ],
 "metadata": {
  "kernelspec": {
   "display_name": "Python 3.9.12 ('base')",
   "language": "python",
   "name": "python3"
  },
  "language_info": {
   "name": "python",
   "version": "3.9.12"
  },
  "orig_nbformat": 4,
  "vscode": {
   "interpreter": {
    "hash": "6364c4923be3342ca3b46706136dccfa1c3a63ffa3f2a56dc512f22ebe33510f"
   }
  }
 },
 "nbformat": 4,
 "nbformat_minor": 2
}
