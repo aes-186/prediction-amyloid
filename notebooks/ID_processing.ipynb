{
 "cells": [
  {
   "cell_type": "code",
   "execution_count": 8,
   "metadata": {},
   "outputs": [
    {
     "name": "stdout",
     "output_type": "stream",
     "text": [
      "      0567\n",
      "0      NaN\n",
      "1      NaN\n",
      "2      NaN\n",
      "3      NaN\n",
      "4      NaN\n",
      "...    ...\n",
      "1044   NaN\n",
      "1045   NaN\n",
      "1046   NaN\n",
      "1047   NaN\n",
      "1048   NaN\n",
      "\n",
      "[1049 rows x 1 columns]\n"
     ]
    }
   ],
   "source": [
    "import pandas as pd \n",
    "import numpy as np \n",
    "\n",
    "# reading and storing as df \n",
    "MR_IDs = pd.read_csv (\"/Users/Anzu/prediction-amyloid/data/ADNI1_MR_RIDs.csv\")\n",
    "\n",
    "PET_IDs = pd.read_csv (\"/Users/Anzu/prediction-amyloid/data/ADNI1_PET_RIDs.csv\")\n",
    "\n",
    "both_IDs = MR_IDs.isin(PET_IDs)\n",
    "\n",
    "\n",
    "\n",
    "\n",
    "\n",
    "\n",
    "\n",
    "\n"
   ]
  },
  {
   "cell_type": "code",
   "execution_count": 24,
   "metadata": {},
   "outputs": [
    {
     "data": {
      "text/plain": [
       "0      002_S_0559\n",
       "1      002_S_0729\n",
       "2      002_S_0816\n",
       "3      002_S_0954\n",
       "4      002_S_1018\n",
       "          ...    \n",
       "178    136_S_0300\n",
       "179    136_S_0426\n",
       "180    136_S_0429\n",
       "181    136_S_0579\n",
       "182    136_S_1227\n",
       "Name: MR_ID, Length: 183, dtype: object"
      ]
     },
     "execution_count": 24,
     "metadata": {},
     "output_type": "execute_result"
    }
   ],
   "source": [
    "\n",
    "\n"
   ]
  }
 ],
 "metadata": {
  "kernelspec": {
   "display_name": "Python 3.9.12 ('base')",
   "language": "python",
   "name": "python3"
  },
  "language_info": {
   "codemirror_mode": {
    "name": "ipython",
    "version": 3
   },
   "file_extension": ".py",
   "mimetype": "text/x-python",
   "name": "python",
   "nbconvert_exporter": "python",
   "pygments_lexer": "ipython3",
   "version": "3.9.12"
  },
  "orig_nbformat": 4,
  "vscode": {
   "interpreter": {
    "hash": "6364c4923be3342ca3b46706136dccfa1c3a63ffa3f2a56dc512f22ebe33510f"
   }
  }
 },
 "nbformat": 4,
 "nbformat_minor": 2
}
